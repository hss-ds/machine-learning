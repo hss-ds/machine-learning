{
 "cells": [
  {
   "cell_type": "code",
   "execution_count": 1,
   "id": "6bcab5c9",
   "metadata": {},
   "outputs": [],
   "source": [
    "import pandas as pd\n",
    "import numpy as np"
   ]
  },
  {
   "cell_type": "code",
   "execution_count": 2,
   "id": "b0c9cb3b",
   "metadata": {},
   "outputs": [
    {
     "data": {
      "text/html": [
       "<div>\n",
       "<style scoped>\n",
       "    .dataframe tbody tr th:only-of-type {\n",
       "        vertical-align: middle;\n",
       "    }\n",
       "\n",
       "    .dataframe tbody tr th {\n",
       "        vertical-align: top;\n",
       "    }\n",
       "\n",
       "    .dataframe thead th {\n",
       "        text-align: right;\n",
       "    }\n",
       "</style>\n",
       "<table border=\"1\" class=\"dataframe\">\n",
       "  <thead>\n",
       "    <tr style=\"text-align: right;\">\n",
       "      <th></th>\n",
       "      <th>meanfreq</th>\n",
       "      <th>sd</th>\n",
       "      <th>median</th>\n",
       "      <th>Q25</th>\n",
       "      <th>Q75</th>\n",
       "      <th>IQR</th>\n",
       "      <th>skew</th>\n",
       "      <th>kurt</th>\n",
       "      <th>sp.ent</th>\n",
       "      <th>sfm</th>\n",
       "      <th>...</th>\n",
       "      <th>centroid</th>\n",
       "      <th>meanfun</th>\n",
       "      <th>minfun</th>\n",
       "      <th>maxfun</th>\n",
       "      <th>meandom</th>\n",
       "      <th>mindom</th>\n",
       "      <th>maxdom</th>\n",
       "      <th>dfrange</th>\n",
       "      <th>modindx</th>\n",
       "      <th>label</th>\n",
       "    </tr>\n",
       "  </thead>\n",
       "  <tbody>\n",
       "    <tr>\n",
       "      <th>2067</th>\n",
       "      <td>0.175185</td>\n",
       "      <td>0.057511</td>\n",
       "      <td>0.183543</td>\n",
       "      <td>0.164017</td>\n",
       "      <td>0.203264</td>\n",
       "      <td>0.039247</td>\n",
       "      <td>2.171320</td>\n",
       "      <td>7.285044</td>\n",
       "      <td>0.919647</td>\n",
       "      <td>0.530706</td>\n",
       "      <td>...</td>\n",
       "      <td>0.175185</td>\n",
       "      <td>0.170602</td>\n",
       "      <td>0.015826</td>\n",
       "      <td>0.266667</td>\n",
       "      <td>0.180027</td>\n",
       "      <td>0.007812</td>\n",
       "      <td>0.273438</td>\n",
       "      <td>0.265625</td>\n",
       "      <td>0.116246</td>\n",
       "      <td>female</td>\n",
       "    </tr>\n",
       "    <tr>\n",
       "      <th>777</th>\n",
       "      <td>0.176309</td>\n",
       "      <td>0.059555</td>\n",
       "      <td>0.190720</td>\n",
       "      <td>0.118462</td>\n",
       "      <td>0.228238</td>\n",
       "      <td>0.109777</td>\n",
       "      <td>1.495360</td>\n",
       "      <td>5.147349</td>\n",
       "      <td>0.924788</td>\n",
       "      <td>0.466217</td>\n",
       "      <td>...</td>\n",
       "      <td>0.176309</td>\n",
       "      <td>0.106554</td>\n",
       "      <td>0.015984</td>\n",
       "      <td>0.228571</td>\n",
       "      <td>0.348828</td>\n",
       "      <td>0.093750</td>\n",
       "      <td>3.531250</td>\n",
       "      <td>3.437500</td>\n",
       "      <td>0.128947</td>\n",
       "      <td>male</td>\n",
       "    </tr>\n",
       "    <tr>\n",
       "      <th>1130</th>\n",
       "      <td>0.202333</td>\n",
       "      <td>0.063001</td>\n",
       "      <td>0.221946</td>\n",
       "      <td>0.137544</td>\n",
       "      <td>0.264817</td>\n",
       "      <td>0.127273</td>\n",
       "      <td>2.000371</td>\n",
       "      <td>6.681799</td>\n",
       "      <td>0.873847</td>\n",
       "      <td>0.261759</td>\n",
       "      <td>...</td>\n",
       "      <td>0.202333</td>\n",
       "      <td>0.123610</td>\n",
       "      <td>0.047291</td>\n",
       "      <td>0.269663</td>\n",
       "      <td>1.190168</td>\n",
       "      <td>0.023438</td>\n",
       "      <td>7.429688</td>\n",
       "      <td>7.406250</td>\n",
       "      <td>0.093438</td>\n",
       "      <td>male</td>\n",
       "    </tr>\n",
       "    <tr>\n",
       "      <th>2101</th>\n",
       "      <td>0.184568</td>\n",
       "      <td>0.034825</td>\n",
       "      <td>0.183302</td>\n",
       "      <td>0.172884</td>\n",
       "      <td>0.201209</td>\n",
       "      <td>0.028326</td>\n",
       "      <td>3.140537</td>\n",
       "      <td>13.595432</td>\n",
       "      <td>0.824722</td>\n",
       "      <td>0.247160</td>\n",
       "      <td>...</td>\n",
       "      <td>0.184568</td>\n",
       "      <td>0.161185</td>\n",
       "      <td>0.034557</td>\n",
       "      <td>0.207792</td>\n",
       "      <td>0.961682</td>\n",
       "      <td>0.078125</td>\n",
       "      <td>6.648438</td>\n",
       "      <td>6.570312</td>\n",
       "      <td>0.250178</td>\n",
       "      <td>female</td>\n",
       "    </tr>\n",
       "    <tr>\n",
       "      <th>3032</th>\n",
       "      <td>0.192281</td>\n",
       "      <td>0.041970</td>\n",
       "      <td>0.197156</td>\n",
       "      <td>0.189689</td>\n",
       "      <td>0.204800</td>\n",
       "      <td>0.015111</td>\n",
       "      <td>3.919928</td>\n",
       "      <td>18.890319</td>\n",
       "      <td>0.824379</td>\n",
       "      <td>0.274805</td>\n",
       "      <td>...</td>\n",
       "      <td>0.192281</td>\n",
       "      <td>0.193415</td>\n",
       "      <td>0.070423</td>\n",
       "      <td>0.270270</td>\n",
       "      <td>0.483023</td>\n",
       "      <td>0.200195</td>\n",
       "      <td>0.795898</td>\n",
       "      <td>0.595703</td>\n",
       "      <td>0.695697</td>\n",
       "      <td>female</td>\n",
       "    </tr>\n",
       "  </tbody>\n",
       "</table>\n",
       "<p>5 rows × 21 columns</p>\n",
       "</div>"
      ],
      "text/plain": [
       "      meanfreq        sd    median       Q25       Q75       IQR      skew  \\\n",
       "2067  0.175185  0.057511  0.183543  0.164017  0.203264  0.039247  2.171320   \n",
       "777   0.176309  0.059555  0.190720  0.118462  0.228238  0.109777  1.495360   \n",
       "1130  0.202333  0.063001  0.221946  0.137544  0.264817  0.127273  2.000371   \n",
       "2101  0.184568  0.034825  0.183302  0.172884  0.201209  0.028326  3.140537   \n",
       "3032  0.192281  0.041970  0.197156  0.189689  0.204800  0.015111  3.919928   \n",
       "\n",
       "           kurt    sp.ent       sfm  ...  centroid   meanfun    minfun  \\\n",
       "2067   7.285044  0.919647  0.530706  ...  0.175185  0.170602  0.015826   \n",
       "777    5.147349  0.924788  0.466217  ...  0.176309  0.106554  0.015984   \n",
       "1130   6.681799  0.873847  0.261759  ...  0.202333  0.123610  0.047291   \n",
       "2101  13.595432  0.824722  0.247160  ...  0.184568  0.161185  0.034557   \n",
       "3032  18.890319  0.824379  0.274805  ...  0.192281  0.193415  0.070423   \n",
       "\n",
       "        maxfun   meandom    mindom    maxdom   dfrange   modindx   label  \n",
       "2067  0.266667  0.180027  0.007812  0.273438  0.265625  0.116246  female  \n",
       "777   0.228571  0.348828  0.093750  3.531250  3.437500  0.128947    male  \n",
       "1130  0.269663  1.190168  0.023438  7.429688  7.406250  0.093438    male  \n",
       "2101  0.207792  0.961682  0.078125  6.648438  6.570312  0.250178  female  \n",
       "3032  0.270270  0.483023  0.200195  0.795898  0.595703  0.695697  female  \n",
       "\n",
       "[5 rows x 21 columns]"
      ]
     },
     "execution_count": 2,
     "metadata": {},
     "output_type": "execute_result"
    }
   ],
   "source": [
    "data_df = pd.read_csv(\"voice-classification.csv\")\n",
    "data_df.sample(n=5)"
   ]
  },
  {
   "cell_type": "code",
   "execution_count": 3,
   "id": "cbfc3208",
   "metadata": {},
   "outputs": [
    {
     "name": "stdout",
     "output_type": "stream",
     "text": [
      "<class 'pandas.core.frame.DataFrame'>\n",
      "RangeIndex: 3168 entries, 0 to 3167\n",
      "Data columns (total 21 columns):\n",
      " #   Column    Non-Null Count  Dtype  \n",
      "---  ------    --------------  -----  \n",
      " 0   meanfreq  3168 non-null   float64\n",
      " 1   sd        3168 non-null   float64\n",
      " 2   median    3168 non-null   float64\n",
      " 3   Q25       3168 non-null   float64\n",
      " 4   Q75       3168 non-null   float64\n",
      " 5   IQR       3168 non-null   float64\n",
      " 6   skew      3168 non-null   float64\n",
      " 7   kurt      3168 non-null   float64\n",
      " 8   sp.ent    3168 non-null   float64\n",
      " 9   sfm       3168 non-null   float64\n",
      " 10  mode      3168 non-null   float64\n",
      " 11  centroid  3168 non-null   float64\n",
      " 12  meanfun   3168 non-null   float64\n",
      " 13  minfun    3168 non-null   float64\n",
      " 14  maxfun    3168 non-null   float64\n",
      " 15  meandom   3168 non-null   float64\n",
      " 16  mindom    3168 non-null   float64\n",
      " 17  maxdom    3168 non-null   float64\n",
      " 18  dfrange   3168 non-null   float64\n",
      " 19  modindx   3168 non-null   float64\n",
      " 20  label     3168 non-null   object \n",
      "dtypes: float64(20), object(1)\n",
      "memory usage: 507.4+ KB\n"
     ]
    }
   ],
   "source": [
    "data_df.info()"
   ]
  },
  {
   "cell_type": "markdown",
   "id": "2071accc",
   "metadata": {},
   "source": [
    "## We don't have any null / missing value and we have only one categorical value which is Label that is used to identify gender/type of voice."
   ]
  },
  {
   "cell_type": "code",
   "execution_count": 4,
   "id": "3d3e75a4",
   "metadata": {},
   "outputs": [
    {
     "name": "stdout",
     "output_type": "stream",
     "text": [
      "Total number of records:  3168\n",
      "Total number of males:  1584\n",
      "Total number of females:  1584\n"
     ]
    }
   ],
   "source": [
    "print(\"Total number of records: \", data_df.shape[0])\n",
    "print(\"Total number of males: \", data_df[data_df['label']=='male'].shape[0])\n",
    "print(\"Total number of females: \", data_df[data_df['label']=='female'].shape[0])"
   ]
  },
  {
   "cell_type": "markdown",
   "id": "7e475852",
   "metadata": {},
   "source": [
    "#### Label is categorical data so we need to endoce it to numeric."
   ]
  },
  {
   "cell_type": "code",
   "execution_count": 5,
   "id": "f35865c3",
   "metadata": {},
   "outputs": [],
   "source": [
    "x_features = data_df.drop(columns=[\"label\"])\n",
    "y_target = data_df['label']"
   ]
  },
  {
   "cell_type": "code",
   "execution_count": 6,
   "id": "a26210b9",
   "metadata": {},
   "outputs": [
    {
     "data": {
      "text/html": [
       "<div>\n",
       "<style scoped>\n",
       "    .dataframe tbody tr th:only-of-type {\n",
       "        vertical-align: middle;\n",
       "    }\n",
       "\n",
       "    .dataframe tbody tr th {\n",
       "        vertical-align: top;\n",
       "    }\n",
       "\n",
       "    .dataframe thead th {\n",
       "        text-align: right;\n",
       "    }\n",
       "</style>\n",
       "<table border=\"1\" class=\"dataframe\">\n",
       "  <thead>\n",
       "    <tr style=\"text-align: right;\">\n",
       "      <th></th>\n",
       "      <th>meanfreq</th>\n",
       "      <th>sd</th>\n",
       "      <th>median</th>\n",
       "      <th>Q25</th>\n",
       "      <th>Q75</th>\n",
       "      <th>IQR</th>\n",
       "      <th>skew</th>\n",
       "      <th>kurt</th>\n",
       "      <th>sp.ent</th>\n",
       "      <th>sfm</th>\n",
       "      <th>mode</th>\n",
       "      <th>centroid</th>\n",
       "      <th>meanfun</th>\n",
       "      <th>minfun</th>\n",
       "      <th>maxfun</th>\n",
       "      <th>meandom</th>\n",
       "      <th>mindom</th>\n",
       "      <th>maxdom</th>\n",
       "      <th>dfrange</th>\n",
       "      <th>modindx</th>\n",
       "    </tr>\n",
       "  </thead>\n",
       "  <tbody>\n",
       "    <tr>\n",
       "      <th>1142</th>\n",
       "      <td>0.185609</td>\n",
       "      <td>0.061889</td>\n",
       "      <td>0.177158</td>\n",
       "      <td>0.137373</td>\n",
       "      <td>0.243217</td>\n",
       "      <td>0.105845</td>\n",
       "      <td>1.620441</td>\n",
       "      <td>5.678051</td>\n",
       "      <td>0.919616</td>\n",
       "      <td>0.471991</td>\n",
       "      <td>0.244718</td>\n",
       "      <td>0.185609</td>\n",
       "      <td>0.132252</td>\n",
       "      <td>0.046921</td>\n",
       "      <td>0.277457</td>\n",
       "      <td>1.752656</td>\n",
       "      <td>0.023438</td>\n",
       "      <td>12.539062</td>\n",
       "      <td>12.515625</td>\n",
       "      <td>0.117324</td>\n",
       "    </tr>\n",
       "    <tr>\n",
       "      <th>2688</th>\n",
       "      <td>0.185682</td>\n",
       "      <td>0.048940</td>\n",
       "      <td>0.174672</td>\n",
       "      <td>0.152182</td>\n",
       "      <td>0.227898</td>\n",
       "      <td>0.075716</td>\n",
       "      <td>2.055586</td>\n",
       "      <td>7.737662</td>\n",
       "      <td>0.901932</td>\n",
       "      <td>0.388738</td>\n",
       "      <td>0.149558</td>\n",
       "      <td>0.185682</td>\n",
       "      <td>0.156580</td>\n",
       "      <td>0.048632</td>\n",
       "      <td>0.274286</td>\n",
       "      <td>1.449424</td>\n",
       "      <td>0.023438</td>\n",
       "      <td>8.976562</td>\n",
       "      <td>8.953125</td>\n",
       "      <td>0.113351</td>\n",
       "    </tr>\n",
       "    <tr>\n",
       "      <th>809</th>\n",
       "      <td>0.176482</td>\n",
       "      <td>0.058527</td>\n",
       "      <td>0.184521</td>\n",
       "      <td>0.128199</td>\n",
       "      <td>0.210805</td>\n",
       "      <td>0.082605</td>\n",
       "      <td>1.750256</td>\n",
       "      <td>6.873995</td>\n",
       "      <td>0.922014</td>\n",
       "      <td>0.453263</td>\n",
       "      <td>0.195249</td>\n",
       "      <td>0.176482</td>\n",
       "      <td>0.136086</td>\n",
       "      <td>0.047572</td>\n",
       "      <td>0.277457</td>\n",
       "      <td>0.701891</td>\n",
       "      <td>0.023438</td>\n",
       "      <td>5.906250</td>\n",
       "      <td>5.882812</td>\n",
       "      <td>0.099374</td>\n",
       "    </tr>\n",
       "  </tbody>\n",
       "</table>\n",
       "</div>"
      ],
      "text/plain": [
       "      meanfreq        sd    median       Q25       Q75       IQR      skew  \\\n",
       "1142  0.185609  0.061889  0.177158  0.137373  0.243217  0.105845  1.620441   \n",
       "2688  0.185682  0.048940  0.174672  0.152182  0.227898  0.075716  2.055586   \n",
       "809   0.176482  0.058527  0.184521  0.128199  0.210805  0.082605  1.750256   \n",
       "\n",
       "          kurt    sp.ent       sfm      mode  centroid   meanfun    minfun  \\\n",
       "1142  5.678051  0.919616  0.471991  0.244718  0.185609  0.132252  0.046921   \n",
       "2688  7.737662  0.901932  0.388738  0.149558  0.185682  0.156580  0.048632   \n",
       "809   6.873995  0.922014  0.453263  0.195249  0.176482  0.136086  0.047572   \n",
       "\n",
       "        maxfun   meandom    mindom     maxdom    dfrange   modindx  \n",
       "1142  0.277457  1.752656  0.023438  12.539062  12.515625  0.117324  \n",
       "2688  0.274286  1.449424  0.023438   8.976562   8.953125  0.113351  \n",
       "809   0.277457  0.701891  0.023438   5.906250   5.882812  0.099374  "
      ]
     },
     "execution_count": 6,
     "metadata": {},
     "output_type": "execute_result"
    }
   ],
   "source": [
    "x_features.sample(n=3)"
   ]
  },
  {
   "cell_type": "code",
   "execution_count": 7,
   "id": "d732a187",
   "metadata": {},
   "outputs": [
    {
     "data": {
      "text/plain": [
       "0         male\n",
       "1         male\n",
       "2         male\n",
       "3         male\n",
       "4         male\n",
       "         ...  \n",
       "3163    female\n",
       "3164    female\n",
       "3165    female\n",
       "3166    female\n",
       "3167    female\n",
       "Name: label, Length: 3168, dtype: object"
      ]
     },
     "execution_count": 7,
     "metadata": {},
     "output_type": "execute_result"
    }
   ],
   "source": [
    "y_target"
   ]
  },
  {
   "cell_type": "code",
   "execution_count": 8,
   "id": "9bebd4e3",
   "metadata": {},
   "outputs": [],
   "source": [
    "from sklearn.preprocessing import LabelEncoder\n",
    "\n",
    "encoder = LabelEncoder()"
   ]
  },
  {
   "cell_type": "code",
   "execution_count": 9,
   "id": "64d98073",
   "metadata": {},
   "outputs": [
    {
     "data": {
      "text/plain": [
       "array([1, 1, 1, ..., 0, 0, 0])"
      ]
     },
     "execution_count": 9,
     "metadata": {},
     "output_type": "execute_result"
    }
   ],
   "source": [
    "y_target_enc = encoder.fit_transform(y_target)\n",
    "y_target_enc"
   ]
  },
  {
   "cell_type": "markdown",
   "id": "a551e0c7",
   "metadata": {},
   "source": [
    "#### we encoded male to 1 and female to 0"
   ]
  },
  {
   "cell_type": "markdown",
   "id": "2c383a99",
   "metadata": {},
   "source": [
    "### As we have 21 features we should consider scaling the features with single digit variance to optimize the model."
   ]
  },
  {
   "cell_type": "code",
   "execution_count": 10,
   "id": "db183b59",
   "metadata": {},
   "outputs": [],
   "source": [
    "from sklearn.preprocessing import StandardScaler\n",
    "scaler = StandardScaler()"
   ]
  },
  {
   "cell_type": "code",
   "execution_count": 11,
   "id": "2a5c3cf0",
   "metadata": {},
   "outputs": [
    {
     "data": {
      "text/plain": [
       "array([[-4.04924806,  0.4273553 , -4.22490077, -2.57610164, -5.69360723,\n",
       "        -0.21477826,  2.29330585,  1.76294635, -0.03908279,  0.4715753 ,\n",
       "        -2.14121031, -4.04924806, -1.81203825, -1.0979981 ,  0.56595854,\n",
       "        -1.5642046 , -0.70840431, -1.43142165, -1.41913712, -1.45477229],\n",
       "       [-3.84105325,  0.6116695 , -3.99929342, -2.48688452, -5.58898726,\n",
       "        -0.25848536,  4.54805598,  4.43300778, -0.06523603,  0.59443122,\n",
       "        -2.14121031, -3.84105325, -1.07959443, -1.09153262, -0.29403034,\n",
       "        -1.56191576, -0.70840431, -1.41810716, -1.4058184 , -1.01410294]])"
      ]
     },
     "execution_count": 11,
     "metadata": {},
     "output_type": "execute_result"
    }
   ],
   "source": [
    "x_features = scaler.fit_transform(x_features)\n",
    "x_features[0:2]"
   ]
  },
  {
   "cell_type": "code",
   "execution_count": 12,
   "id": "eb5be86d",
   "metadata": {},
   "outputs": [
    {
     "data": {
      "text/plain": [
       "((2217, 20), (951, 20), (2217,), (951,))"
      ]
     },
     "execution_count": 12,
     "metadata": {},
     "output_type": "execute_result"
    }
   ],
   "source": [
    "from sklearn.model_selection import train_test_split\n",
    "\n",
    "x_train, x_test, y_train, y_test = train_test_split(x_features, y_target_enc, test_size=0.3, random_state=5)\n",
    "x_train.shape, x_test.shape, y_train.shape, y_test.shape"
   ]
  },
  {
   "cell_type": "code",
   "execution_count": 13,
   "id": "c0635dfe",
   "metadata": {},
   "outputs": [],
   "source": [
    "from sklearn.svm import SVC\n",
    "svc = SVC()\n",
    "\n",
    "svc.fit(x_train, y_train)\n",
    "\n",
    "y_predict = svc.predict(x_test)"
   ]
  },
  {
   "cell_type": "code",
   "execution_count": 14,
   "id": "16018e89",
   "metadata": {},
   "outputs": [],
   "source": [
    "from sklearn.metrics import accuracy_score, confusion_matrix, classification_report"
   ]
  },
  {
   "cell_type": "code",
   "execution_count": 15,
   "id": "02dce078",
   "metadata": {},
   "outputs": [
    {
     "name": "stdout",
     "output_type": "stream",
     "text": [
      "Accuracy Score: 98.21%\n"
     ]
    }
   ],
   "source": [
    "acc = accuracy_score(y_test, y_predict) * 100\n",
    "print(\"Accuracy Score: {:0.2f}%\".format(acc))"
   ]
  },
  {
   "cell_type": "code",
   "execution_count": 16,
   "id": "422c6780",
   "metadata": {},
   "outputs": [
    {
     "data": {
      "text/plain": [
       "array([[463,  10],\n",
       "       [  7, 471]], dtype=int64)"
      ]
     },
     "execution_count": 16,
     "metadata": {},
     "output_type": "execute_result"
    }
   ],
   "source": [
    "confusion_matrix(y_test, y_predict)"
   ]
  },
  {
   "cell_type": "code",
   "execution_count": 17,
   "id": "dc45a5f5",
   "metadata": {},
   "outputs": [
    {
     "name": "stdout",
     "output_type": "stream",
     "text": [
      "              precision    recall  f1-score   support\n",
      "\n",
      "           0       0.99      0.98      0.98       473\n",
      "           1       0.98      0.99      0.98       478\n",
      "\n",
      "    accuracy                           0.98       951\n",
      "   macro avg       0.98      0.98      0.98       951\n",
      "weighted avg       0.98      0.98      0.98       951\n",
      "\n"
     ]
    }
   ],
   "source": [
    "print(classification_report(y_test, y_predict))"
   ]
  },
  {
   "cell_type": "markdown",
   "id": "62f74661",
   "metadata": {},
   "source": [
    "##  Hyper-tunning of estimator. GridSearchCV is the way by which we can tryout diferent combinations for the estimator and select the one with best Accuracy."
   ]
  },
  {
   "cell_type": "code",
   "execution_count": 18,
   "id": "c373d5bd",
   "metadata": {},
   "outputs": [
    {
     "data": {
      "text/plain": [
       "dict_keys(['C', 'break_ties', 'cache_size', 'class_weight', 'coef0', 'decision_function_shape', 'degree', 'gamma', 'kernel', 'max_iter', 'probability', 'random_state', 'shrinking', 'tol', 'verbose'])"
      ]
     },
     "execution_count": 18,
     "metadata": {},
     "output_type": "execute_result"
    }
   ],
   "source": [
    "svc.get_params().keys()"
   ]
  },
  {
   "cell_type": "code",
   "execution_count": 19,
   "id": "61177fc0",
   "metadata": {},
   "outputs": [
    {
     "name": "stdout",
     "output_type": "stream",
     "text": [
      "Fitting 2 folds for each of 120 candidates, totalling 240 fits\n"
     ]
    }
   ],
   "source": [
    "from sklearn.model_selection import GridSearchCV\n",
    "\n",
    "gsc = GridSearchCV(SVC(), {\n",
    "    'C': [1,10,20,30,50],\n",
    "    'kernel': ['linear', 'poly', 'rbf', 'sigmoid'],\n",
    "    'gamma': ['scale', 'auto', 0.1, 1, 10,100]\n",
    "}, refit=True, verbose=True, cv=2)\n",
    "\n",
    "# cv = Cross validator.\n",
    "\n",
    "gsc.fit(x_train, y_train)\n",
    "\n",
    "gsc_y_predict = gsc.predict(x_test)"
   ]
  },
  {
   "cell_type": "code",
   "execution_count": 20,
   "id": "c862403f",
   "metadata": {},
   "outputs": [
    {
     "data": {
      "text/plain": [
       "0.9797024997314392"
      ]
     },
     "execution_count": 20,
     "metadata": {},
     "output_type": "execute_result"
    }
   ],
   "source": [
    "gsc.best_score_"
   ]
  },
  {
   "cell_type": "code",
   "execution_count": 21,
   "id": "4e35cec2",
   "metadata": {},
   "outputs": [
    {
     "data": {
      "text/plain": [
       "{'C': 10, 'gamma': 'scale', 'kernel': 'rbf'}"
      ]
     },
     "execution_count": 21,
     "metadata": {},
     "output_type": "execute_result"
    }
   ],
   "source": [
    "gsc.best_params_"
   ]
  },
  {
   "cell_type": "code",
   "execution_count": 22,
   "id": "e435cb2d",
   "metadata": {},
   "outputs": [
    {
     "name": "stdout",
     "output_type": "stream",
     "text": [
      "Min Score:  0.5011275484792947\n",
      "Min Score:  0.9797024997314392\n"
     ]
    },
    {
     "data": {
      "text/html": [
       "<div>\n",
       "<style scoped>\n",
       "    .dataframe tbody tr th:only-of-type {\n",
       "        vertical-align: middle;\n",
       "    }\n",
       "\n",
       "    .dataframe tbody tr th {\n",
       "        vertical-align: top;\n",
       "    }\n",
       "\n",
       "    .dataframe thead th {\n",
       "        text-align: right;\n",
       "    }\n",
       "</style>\n",
       "<table border=\"1\" class=\"dataframe\">\n",
       "  <thead>\n",
       "    <tr style=\"text-align: right;\">\n",
       "      <th></th>\n",
       "      <th>mean_fit_time</th>\n",
       "      <th>std_fit_time</th>\n",
       "      <th>mean_score_time</th>\n",
       "      <th>std_score_time</th>\n",
       "      <th>param_C</th>\n",
       "      <th>param_gamma</th>\n",
       "      <th>param_kernel</th>\n",
       "      <th>params</th>\n",
       "      <th>split0_test_score</th>\n",
       "      <th>split1_test_score</th>\n",
       "      <th>mean_test_score</th>\n",
       "      <th>std_test_score</th>\n",
       "      <th>rank_test_score</th>\n",
       "    </tr>\n",
       "  </thead>\n",
       "  <tbody>\n",
       "    <tr>\n",
       "      <th>22</th>\n",
       "      <td>0.160900</td>\n",
       "      <td>0.005996</td>\n",
       "      <td>0.266836</td>\n",
       "      <td>0.013991</td>\n",
       "      <td>1</td>\n",
       "      <td>100</td>\n",
       "      <td>rbf</td>\n",
       "      <td>{'C': 1, 'gamma': 100, 'kernel': 'rbf'}</td>\n",
       "      <td>0.501353</td>\n",
       "      <td>0.500903</td>\n",
       "      <td>0.501128</td>\n",
       "      <td>0.000225</td>\n",
       "      <td>116</td>\n",
       "    </tr>\n",
       "    <tr>\n",
       "      <th>46</th>\n",
       "      <td>0.153904</td>\n",
       "      <td>0.009994</td>\n",
       "      <td>0.254343</td>\n",
       "      <td>0.013492</td>\n",
       "      <td>10</td>\n",
       "      <td>100</td>\n",
       "      <td>rbf</td>\n",
       "      <td>{'C': 10, 'gamma': 100, 'kernel': 'rbf'}</td>\n",
       "      <td>0.501353</td>\n",
       "      <td>0.500903</td>\n",
       "      <td>0.501128</td>\n",
       "      <td>0.000225</td>\n",
       "      <td>116</td>\n",
       "    </tr>\n",
       "    <tr>\n",
       "      <th>70</th>\n",
       "      <td>0.137414</td>\n",
       "      <td>0.002500</td>\n",
       "      <td>0.242351</td>\n",
       "      <td>0.002498</td>\n",
       "      <td>20</td>\n",
       "      <td>100</td>\n",
       "      <td>rbf</td>\n",
       "      <td>{'C': 20, 'gamma': 100, 'kernel': 'rbf'}</td>\n",
       "      <td>0.501353</td>\n",
       "      <td>0.500903</td>\n",
       "      <td>0.501128</td>\n",
       "      <td>0.000225</td>\n",
       "      <td>116</td>\n",
       "    </tr>\n",
       "    <tr>\n",
       "      <th>94</th>\n",
       "      <td>0.137416</td>\n",
       "      <td>0.006496</td>\n",
       "      <td>0.239852</td>\n",
       "      <td>0.001000</td>\n",
       "      <td>30</td>\n",
       "      <td>100</td>\n",
       "      <td>rbf</td>\n",
       "      <td>{'C': 30, 'gamma': 100, 'kernel': 'rbf'}</td>\n",
       "      <td>0.501353</td>\n",
       "      <td>0.500903</td>\n",
       "      <td>0.501128</td>\n",
       "      <td>0.000225</td>\n",
       "      <td>116</td>\n",
       "    </tr>\n",
       "    <tr>\n",
       "      <th>118</th>\n",
       "      <td>0.136916</td>\n",
       "      <td>0.003998</td>\n",
       "      <td>0.240352</td>\n",
       "      <td>0.000498</td>\n",
       "      <td>50</td>\n",
       "      <td>100</td>\n",
       "      <td>rbf</td>\n",
       "      <td>{'C': 50, 'gamma': 100, 'kernel': 'rbf'}</td>\n",
       "      <td>0.501353</td>\n",
       "      <td>0.500903</td>\n",
       "      <td>0.501128</td>\n",
       "      <td>0.000225</td>\n",
       "      <td>116</td>\n",
       "    </tr>\n",
       "  </tbody>\n",
       "</table>\n",
       "</div>"
      ],
      "text/plain": [
       "     mean_fit_time  std_fit_time  mean_score_time  std_score_time param_C  \\\n",
       "22        0.160900      0.005996         0.266836        0.013991       1   \n",
       "46        0.153904      0.009994         0.254343        0.013492      10   \n",
       "70        0.137414      0.002500         0.242351        0.002498      20   \n",
       "94        0.137416      0.006496         0.239852        0.001000      30   \n",
       "118       0.136916      0.003998         0.240352        0.000498      50   \n",
       "\n",
       "    param_gamma param_kernel                                    params  \\\n",
       "22          100          rbf   {'C': 1, 'gamma': 100, 'kernel': 'rbf'}   \n",
       "46          100          rbf  {'C': 10, 'gamma': 100, 'kernel': 'rbf'}   \n",
       "70          100          rbf  {'C': 20, 'gamma': 100, 'kernel': 'rbf'}   \n",
       "94          100          rbf  {'C': 30, 'gamma': 100, 'kernel': 'rbf'}   \n",
       "118         100          rbf  {'C': 50, 'gamma': 100, 'kernel': 'rbf'}   \n",
       "\n",
       "     split0_test_score  split1_test_score  mean_test_score  std_test_score  \\\n",
       "22            0.501353           0.500903         0.501128        0.000225   \n",
       "46            0.501353           0.500903         0.501128        0.000225   \n",
       "70            0.501353           0.500903         0.501128        0.000225   \n",
       "94            0.501353           0.500903         0.501128        0.000225   \n",
       "118           0.501353           0.500903         0.501128        0.000225   \n",
       "\n",
       "     rank_test_score  \n",
       "22               116  \n",
       "46               116  \n",
       "70               116  \n",
       "94               116  \n",
       "118              116  "
      ]
     },
     "execution_count": 22,
     "metadata": {},
     "output_type": "execute_result"
    }
   ],
   "source": [
    "gsc_df = pd.DataFrame(gsc.cv_results_)\n",
    "print(\"Min Score: \", gsc_df['mean_test_score'].min())\n",
    "print(\"Min Score: \", gsc_df['mean_test_score'].max())\n",
    "gsc_df[gsc_df['mean_test_score'] == gsc_df['mean_test_score'].min()]"
   ]
  },
  {
   "cell_type": "markdown",
   "id": "c2f65354",
   "metadata": {},
   "source": [
    "##  Hyper-tunning of estimator. GridSearchCV run for all the combinations whichis time consuming and resource consuming.. But RandomizedSearchCV provide a way to try out only a number of values from complete combinations randomly."
   ]
  },
  {
   "cell_type": "code",
   "execution_count": 23,
   "id": "b8857d0c",
   "metadata": {},
   "outputs": [
    {
     "name": "stdout",
     "output_type": "stream",
     "text": [
      "Fitting 5 folds for each of 5 candidates, totalling 25 fits\n"
     ]
    }
   ],
   "source": [
    "from sklearn.model_selection import RandomizedSearchCV\n",
    "\n",
    "rscv = RandomizedSearchCV(SVC(), {\n",
    "    'C': [1,10,20,30,50],\n",
    "    'kernel': ['linear', 'poly', 'rbf', 'sigmoid'],\n",
    "    'gamma': ['scale', 'auto', 0.1, 1, 10,100]\n",
    "}, n_iter=5, cv=5, verbose=True)\n",
    "\n",
    "rscv.fit(x_train, y_train)\n",
    "rscv_y_pred = rscv.predict(x_test)"
   ]
  },
  {
   "cell_type": "code",
   "execution_count": 24,
   "id": "5cfd9717",
   "metadata": {},
   "outputs": [
    {
     "name": "stdout",
     "output_type": "stream",
     "text": [
      "Best Score:  0.9724818497956196\n",
      "Best Params:  {'kernel': 'linear', 'gamma': 1, 'C': 1}\n"
     ]
    }
   ],
   "source": [
    "print(\"Best Score: \",rscv.best_score_)\n",
    "print(\"Best Params: \",rscv.best_params_)"
   ]
  },
  {
   "cell_type": "code",
   "execution_count": 25,
   "id": "d9dcff3b",
   "metadata": {},
   "outputs": [
    {
     "data": {
      "text/html": [
       "<div>\n",
       "<style scoped>\n",
       "    .dataframe tbody tr th:only-of-type {\n",
       "        vertical-align: middle;\n",
       "    }\n",
       "\n",
       "    .dataframe tbody tr th {\n",
       "        vertical-align: top;\n",
       "    }\n",
       "\n",
       "    .dataframe thead th {\n",
       "        text-align: right;\n",
       "    }\n",
       "</style>\n",
       "<table border=\"1\" class=\"dataframe\">\n",
       "  <thead>\n",
       "    <tr style=\"text-align: right;\">\n",
       "      <th></th>\n",
       "      <th>mean_fit_time</th>\n",
       "      <th>std_fit_time</th>\n",
       "      <th>mean_score_time</th>\n",
       "      <th>std_score_time</th>\n",
       "      <th>param_kernel</th>\n",
       "      <th>param_gamma</th>\n",
       "      <th>param_C</th>\n",
       "      <th>params</th>\n",
       "      <th>split0_test_score</th>\n",
       "      <th>split1_test_score</th>\n",
       "      <th>split2_test_score</th>\n",
       "      <th>split3_test_score</th>\n",
       "      <th>split4_test_score</th>\n",
       "      <th>mean_test_score</th>\n",
       "      <th>std_test_score</th>\n",
       "      <th>rank_test_score</th>\n",
       "    </tr>\n",
       "  </thead>\n",
       "  <tbody>\n",
       "    <tr>\n",
       "      <th>0</th>\n",
       "      <td>0.361175</td>\n",
       "      <td>0.007493</td>\n",
       "      <td>0.161902</td>\n",
       "      <td>0.009397</td>\n",
       "      <td>rbf</td>\n",
       "      <td>100</td>\n",
       "      <td>30</td>\n",
       "      <td>{'kernel': 'rbf', 'gamma': 100, 'C': 30}</td>\n",
       "      <td>0.502252</td>\n",
       "      <td>0.500000</td>\n",
       "      <td>0.501129</td>\n",
       "      <td>0.501129</td>\n",
       "      <td>0.501129</td>\n",
       "      <td>0.501128</td>\n",
       "      <td>0.000712</td>\n",
       "      <td>5</td>\n",
       "    </tr>\n",
       "    <tr>\n",
       "      <th>1</th>\n",
       "      <td>0.232055</td>\n",
       "      <td>0.049915</td>\n",
       "      <td>0.003997</td>\n",
       "      <td>0.000633</td>\n",
       "      <td>linear</td>\n",
       "      <td>auto</td>\n",
       "      <td>20</td>\n",
       "      <td>{'kernel': 'linear', 'gamma': 'auto', 'C': 20}</td>\n",
       "      <td>0.984234</td>\n",
       "      <td>0.966216</td>\n",
       "      <td>0.966140</td>\n",
       "      <td>0.970655</td>\n",
       "      <td>0.970655</td>\n",
       "      <td>0.971580</td>\n",
       "      <td>0.006636</td>\n",
       "      <td>2</td>\n",
       "    </tr>\n",
       "    <tr>\n",
       "      <th>2</th>\n",
       "      <td>0.040573</td>\n",
       "      <td>0.003609</td>\n",
       "      <td>0.003998</td>\n",
       "      <td>0.000633</td>\n",
       "      <td>linear</td>\n",
       "      <td>1</td>\n",
       "      <td>1</td>\n",
       "      <td>{'kernel': 'linear', 'gamma': 1, 'C': 1}</td>\n",
       "      <td>0.986486</td>\n",
       "      <td>0.966216</td>\n",
       "      <td>0.966140</td>\n",
       "      <td>0.975169</td>\n",
       "      <td>0.968397</td>\n",
       "      <td>0.972482</td>\n",
       "      <td>0.007740</td>\n",
       "      <td>1</td>\n",
       "    </tr>\n",
       "    <tr>\n",
       "      <th>3</th>\n",
       "      <td>0.146310</td>\n",
       "      <td>0.005001</td>\n",
       "      <td>0.030581</td>\n",
       "      <td>0.000490</td>\n",
       "      <td>sigmoid</td>\n",
       "      <td>0.1</td>\n",
       "      <td>10</td>\n",
       "      <td>{'kernel': 'sigmoid', 'gamma': 0.1, 'C': 10}</td>\n",
       "      <td>0.704955</td>\n",
       "      <td>0.720721</td>\n",
       "      <td>0.715576</td>\n",
       "      <td>0.699774</td>\n",
       "      <td>0.717833</td>\n",
       "      <td>0.711772</td>\n",
       "      <td>0.008021</td>\n",
       "      <td>4</td>\n",
       "    </tr>\n",
       "    <tr>\n",
       "      <th>4</th>\n",
       "      <td>0.052168</td>\n",
       "      <td>0.004704</td>\n",
       "      <td>0.004397</td>\n",
       "      <td>0.000489</td>\n",
       "      <td>poly</td>\n",
       "      <td>10</td>\n",
       "      <td>10</td>\n",
       "      <td>{'kernel': 'poly', 'gamma': 10, 'C': 10}</td>\n",
       "      <td>0.972973</td>\n",
       "      <td>0.961712</td>\n",
       "      <td>0.959368</td>\n",
       "      <td>0.972912</td>\n",
       "      <td>0.959368</td>\n",
       "      <td>0.965267</td>\n",
       "      <td>0.006326</td>\n",
       "      <td>3</td>\n",
       "    </tr>\n",
       "  </tbody>\n",
       "</table>\n",
       "</div>"
      ],
      "text/plain": [
       "   mean_fit_time  std_fit_time  mean_score_time  std_score_time param_kernel  \\\n",
       "0       0.361175      0.007493         0.161902        0.009397          rbf   \n",
       "1       0.232055      0.049915         0.003997        0.000633       linear   \n",
       "2       0.040573      0.003609         0.003998        0.000633       linear   \n",
       "3       0.146310      0.005001         0.030581        0.000490      sigmoid   \n",
       "4       0.052168      0.004704         0.004397        0.000489         poly   \n",
       "\n",
       "  param_gamma param_C                                          params  \\\n",
       "0         100      30        {'kernel': 'rbf', 'gamma': 100, 'C': 30}   \n",
       "1        auto      20  {'kernel': 'linear', 'gamma': 'auto', 'C': 20}   \n",
       "2           1       1        {'kernel': 'linear', 'gamma': 1, 'C': 1}   \n",
       "3         0.1      10    {'kernel': 'sigmoid', 'gamma': 0.1, 'C': 10}   \n",
       "4          10      10        {'kernel': 'poly', 'gamma': 10, 'C': 10}   \n",
       "\n",
       "   split0_test_score  split1_test_score  split2_test_score  split3_test_score  \\\n",
       "0           0.502252           0.500000           0.501129           0.501129   \n",
       "1           0.984234           0.966216           0.966140           0.970655   \n",
       "2           0.986486           0.966216           0.966140           0.975169   \n",
       "3           0.704955           0.720721           0.715576           0.699774   \n",
       "4           0.972973           0.961712           0.959368           0.972912   \n",
       "\n",
       "   split4_test_score  mean_test_score  std_test_score  rank_test_score  \n",
       "0           0.501129         0.501128        0.000712                5  \n",
       "1           0.970655         0.971580        0.006636                2  \n",
       "2           0.968397         0.972482        0.007740                1  \n",
       "3           0.717833         0.711772        0.008021                4  \n",
       "4           0.959368         0.965267        0.006326                3  "
      ]
     },
     "execution_count": 25,
     "metadata": {},
     "output_type": "execute_result"
    }
   ],
   "source": [
    "rscv_df = pd.DataFrame(rscv.cv_results_)\n",
    "rscv_df"
   ]
  },
  {
   "cell_type": "markdown",
   "id": "b0d19650",
   "metadata": {},
   "source": [
    "## Observation: \n",
    "### We saw that RandomizedSearchCV provide almost equal Accuracy parameters set but took just 25 fits whereas GridSearchCV took 240 fits."
   ]
  },
  {
   "cell_type": "code",
   "execution_count": null,
   "id": "cf17ab8e",
   "metadata": {},
   "outputs": [],
   "source": []
  }
 ],
 "metadata": {
  "kernelspec": {
   "display_name": "Python 3 (ipykernel)",
   "language": "python",
   "name": "python3"
  },
  "language_info": {
   "codemirror_mode": {
    "name": "ipython",
    "version": 3
   },
   "file_extension": ".py",
   "mimetype": "text/x-python",
   "name": "python",
   "nbconvert_exporter": "python",
   "pygments_lexer": "ipython3",
   "version": "3.9.7"
  }
 },
 "nbformat": 4,
 "nbformat_minor": 5
}
