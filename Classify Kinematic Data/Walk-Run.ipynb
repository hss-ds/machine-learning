{
 "cells": [
  {
   "cell_type": "code",
   "execution_count": 1,
   "id": "f9e28666",
   "metadata": {},
   "outputs": [],
   "source": [
    "import pandas as pd\n",
    "import numpy as np\n",
    "\n",
    "from sklearn.model_selection import train_test_split\n",
    "from sklearn.naive_bayes import GaussianNB\n",
    "\n",
    "from sklearn.metrics import accuracy_score, confusion_matrix, classification_report\n"
   ]
  },
  {
   "cell_type": "markdown",
   "id": "64d499ad",
   "metadata": {},
   "source": [
    "#### Task 1. Load the kinematics dataset as measured on mobile sensors from the file “run_or_walk.csv.”"
   ]
  },
  {
   "cell_type": "code",
   "execution_count": 2,
   "id": "448a2af3",
   "metadata": {},
   "outputs": [
    {
     "name": "stdout",
     "output_type": "stream",
     "text": [
      "<class 'pandas.core.frame.DataFrame'>\n",
      "RangeIndex: 88588 entries, 0 to 88587\n",
      "Data columns (total 11 columns):\n",
      " #   Column          Non-Null Count  Dtype  \n",
      "---  ------          --------------  -----  \n",
      " 0   date            88588 non-null  object \n",
      " 1   time            88588 non-null  object \n",
      " 2   username        88588 non-null  object \n",
      " 3   wrist           88588 non-null  int64  \n",
      " 4   activity        88588 non-null  int64  \n",
      " 5   acceleration_x  88588 non-null  float64\n",
      " 6   acceleration_y  88588 non-null  float64\n",
      " 7   acceleration_z  88588 non-null  float64\n",
      " 8   gyro_x          88588 non-null  float64\n",
      " 9   gyro_y          88588 non-null  float64\n",
      " 10  gyro_z          88588 non-null  float64\n",
      "dtypes: float64(6), int64(2), object(3)\n",
      "memory usage: 6.4+ MB\n"
     ]
    }
   ],
   "source": [
    "data_df = pd.read_csv(\"run_or_walk.csv\")\n",
    "data_df.info()"
   ]
  },
  {
   "cell_type": "markdown",
   "id": "8d389e02",
   "metadata": {},
   "source": [
    "#### Task 2. List the columns in the dataset."
   ]
  },
  {
   "cell_type": "code",
   "execution_count": 3,
   "id": "b39adb0e",
   "metadata": {},
   "outputs": [
    {
     "data": {
      "text/plain": [
       "['date',\n",
       " 'time',\n",
       " 'username',\n",
       " 'wrist',\n",
       " 'activity',\n",
       " 'acceleration_x',\n",
       " 'acceleration_y',\n",
       " 'acceleration_z',\n",
       " 'gyro_x',\n",
       " 'gyro_y',\n",
       " 'gyro_z']"
      ]
     },
     "execution_count": 3,
     "metadata": {},
     "output_type": "execute_result"
    }
   ],
   "source": [
    "data_df.columns.to_list()"
   ]
  },
  {
   "cell_type": "markdown",
   "id": "16b4072c",
   "metadata": {},
   "source": [
    "#### Task 3. Let the target variable “y” be the activity, and assign all the columns after it to “x”."
   ]
  },
  {
   "cell_type": "code",
   "execution_count": 4,
   "id": "e3c13bd1",
   "metadata": {},
   "outputs": [
    {
     "data": {
      "text/html": [
       "<div>\n",
       "<style scoped>\n",
       "    .dataframe tbody tr th:only-of-type {\n",
       "        vertical-align: middle;\n",
       "    }\n",
       "\n",
       "    .dataframe tbody tr th {\n",
       "        vertical-align: top;\n",
       "    }\n",
       "\n",
       "    .dataframe thead th {\n",
       "        text-align: right;\n",
       "    }\n",
       "</style>\n",
       "<table border=\"1\" class=\"dataframe\">\n",
       "  <thead>\n",
       "    <tr style=\"text-align: right;\">\n",
       "      <th></th>\n",
       "      <th>date</th>\n",
       "      <th>time</th>\n",
       "      <th>username</th>\n",
       "      <th>wrist</th>\n",
       "      <th>activity</th>\n",
       "      <th>acceleration_x</th>\n",
       "      <th>acceleration_y</th>\n",
       "      <th>acceleration_z</th>\n",
       "      <th>gyro_x</th>\n",
       "      <th>gyro_y</th>\n",
       "      <th>gyro_z</th>\n",
       "    </tr>\n",
       "  </thead>\n",
       "  <tbody>\n",
       "    <tr>\n",
       "      <th>39063</th>\n",
       "      <td>2017-7-16</td>\n",
       "      <td>15:43:9:796065986</td>\n",
       "      <td>viktor</td>\n",
       "      <td>1</td>\n",
       "      <td>0</td>\n",
       "      <td>-0.2208</td>\n",
       "      <td>-1.2577</td>\n",
       "      <td>-0.2193</td>\n",
       "      <td>1.1632</td>\n",
       "      <td>-0.9508</td>\n",
       "      <td>-1.3319</td>\n",
       "    </tr>\n",
       "    <tr>\n",
       "      <th>62696</th>\n",
       "      <td>2017-7-2</td>\n",
       "      <td>19:59:20:40491998</td>\n",
       "      <td>viktor</td>\n",
       "      <td>0</td>\n",
       "      <td>0</td>\n",
       "      <td>0.4621</td>\n",
       "      <td>-0.9777</td>\n",
       "      <td>-0.1684</td>\n",
       "      <td>0.9861</td>\n",
       "      <td>0.8790</td>\n",
       "      <td>2.3149</td>\n",
       "    </tr>\n",
       "    <tr>\n",
       "      <th>27803</th>\n",
       "      <td>2017-7-16</td>\n",
       "      <td>14:31:45:848020970</td>\n",
       "      <td>viktor</td>\n",
       "      <td>1</td>\n",
       "      <td>0</td>\n",
       "      <td>-0.4736</td>\n",
       "      <td>-1.5287</td>\n",
       "      <td>-0.3163</td>\n",
       "      <td>1.8043</td>\n",
       "      <td>0.3988</td>\n",
       "      <td>-2.0916</td>\n",
       "    </tr>\n",
       "    <tr>\n",
       "      <th>49500</th>\n",
       "      <td>2017-7-17</td>\n",
       "      <td>19:58:1:485530972</td>\n",
       "      <td>viktor</td>\n",
       "      <td>1</td>\n",
       "      <td>1</td>\n",
       "      <td>-0.6107</td>\n",
       "      <td>0.7065</td>\n",
       "      <td>-0.0779</td>\n",
       "      <td>-1.1297</td>\n",
       "      <td>-0.8804</td>\n",
       "      <td>-0.5607</td>\n",
       "    </tr>\n",
       "    <tr>\n",
       "      <th>31290</th>\n",
       "      <td>2017-7-16</td>\n",
       "      <td>14:50:22:437716007</td>\n",
       "      <td>viktor</td>\n",
       "      <td>1</td>\n",
       "      <td>0</td>\n",
       "      <td>-0.4173</td>\n",
       "      <td>-1.5657</td>\n",
       "      <td>-0.4488</td>\n",
       "      <td>-1.4357</td>\n",
       "      <td>0.0857</td>\n",
       "      <td>1.1656</td>\n",
       "    </tr>\n",
       "  </tbody>\n",
       "</table>\n",
       "</div>"
      ],
      "text/plain": [
       "            date                time username  wrist  activity  \\\n",
       "39063  2017-7-16   15:43:9:796065986   viktor      1         0   \n",
       "62696   2017-7-2   19:59:20:40491998   viktor      0         0   \n",
       "27803  2017-7-16  14:31:45:848020970   viktor      1         0   \n",
       "49500  2017-7-17   19:58:1:485530972   viktor      1         1   \n",
       "31290  2017-7-16  14:50:22:437716007   viktor      1         0   \n",
       "\n",
       "       acceleration_x  acceleration_y  acceleration_z  gyro_x  gyro_y  gyro_z  \n",
       "39063         -0.2208         -1.2577         -0.2193  1.1632 -0.9508 -1.3319  \n",
       "62696          0.4621         -0.9777         -0.1684  0.9861  0.8790  2.3149  \n",
       "27803         -0.4736         -1.5287         -0.3163  1.8043  0.3988 -2.0916  \n",
       "49500         -0.6107          0.7065         -0.0779 -1.1297 -0.8804 -0.5607  \n",
       "31290         -0.4173         -1.5657         -0.4488 -1.4357  0.0857  1.1656  "
      ]
     },
     "execution_count": 4,
     "metadata": {},
     "output_type": "execute_result"
    }
   ],
   "source": [
    "data_df.sample(n=5)"
   ]
  },
  {
   "cell_type": "code",
   "execution_count": 5,
   "id": "88605958",
   "metadata": {},
   "outputs": [],
   "source": [
    "X = data_df.iloc[:,5:]\n",
    "Y = data_df.iloc[:,4]"
   ]
  },
  {
   "cell_type": "code",
   "execution_count": 6,
   "id": "bb90de02",
   "metadata": {},
   "outputs": [
    {
     "data": {
      "text/html": [
       "<div>\n",
       "<style scoped>\n",
       "    .dataframe tbody tr th:only-of-type {\n",
       "        vertical-align: middle;\n",
       "    }\n",
       "\n",
       "    .dataframe tbody tr th {\n",
       "        vertical-align: top;\n",
       "    }\n",
       "\n",
       "    .dataframe thead th {\n",
       "        text-align: right;\n",
       "    }\n",
       "</style>\n",
       "<table border=\"1\" class=\"dataframe\">\n",
       "  <thead>\n",
       "    <tr style=\"text-align: right;\">\n",
       "      <th></th>\n",
       "      <th>acceleration_x</th>\n",
       "      <th>acceleration_y</th>\n",
       "      <th>acceleration_z</th>\n",
       "      <th>gyro_x</th>\n",
       "      <th>gyro_y</th>\n",
       "      <th>gyro_z</th>\n",
       "    </tr>\n",
       "  </thead>\n",
       "  <tbody>\n",
       "    <tr>\n",
       "      <th>0</th>\n",
       "      <td>0.2650</td>\n",
       "      <td>-0.7814</td>\n",
       "      <td>-0.0076</td>\n",
       "      <td>-0.0590</td>\n",
       "      <td>0.0325</td>\n",
       "      <td>-2.9296</td>\n",
       "    </tr>\n",
       "    <tr>\n",
       "      <th>1</th>\n",
       "      <td>0.6722</td>\n",
       "      <td>-1.1233</td>\n",
       "      <td>-0.2344</td>\n",
       "      <td>-0.1757</td>\n",
       "      <td>0.0208</td>\n",
       "      <td>0.1269</td>\n",
       "    </tr>\n",
       "    <tr>\n",
       "      <th>2</th>\n",
       "      <td>0.4399</td>\n",
       "      <td>-1.4817</td>\n",
       "      <td>0.0722</td>\n",
       "      <td>-0.9105</td>\n",
       "      <td>0.1063</td>\n",
       "      <td>-2.4367</td>\n",
       "    </tr>\n",
       "    <tr>\n",
       "      <th>3</th>\n",
       "      <td>0.3031</td>\n",
       "      <td>-0.8125</td>\n",
       "      <td>0.0888</td>\n",
       "      <td>0.1199</td>\n",
       "      <td>-0.4099</td>\n",
       "      <td>-2.9336</td>\n",
       "    </tr>\n",
       "  </tbody>\n",
       "</table>\n",
       "</div>"
      ],
      "text/plain": [
       "   acceleration_x  acceleration_y  acceleration_z  gyro_x  gyro_y  gyro_z\n",
       "0          0.2650         -0.7814         -0.0076 -0.0590  0.0325 -2.9296\n",
       "1          0.6722         -1.1233         -0.2344 -0.1757  0.0208  0.1269\n",
       "2          0.4399         -1.4817          0.0722 -0.9105  0.1063 -2.4367\n",
       "3          0.3031         -0.8125          0.0888  0.1199 -0.4099 -2.9336"
      ]
     },
     "execution_count": 6,
     "metadata": {},
     "output_type": "execute_result"
    }
   ],
   "source": [
    "X[0:4]"
   ]
  },
  {
   "cell_type": "code",
   "execution_count": 7,
   "id": "e925ece3",
   "metadata": {},
   "outputs": [
    {
     "data": {
      "text/plain": [
       "0    0\n",
       "1    0\n",
       "2    0\n",
       "3    0\n",
       "Name: activity, dtype: int64"
      ]
     },
     "execution_count": 7,
     "metadata": {},
     "output_type": "execute_result"
    }
   ],
   "source": [
    "Y[0:4]"
   ]
  },
  {
   "cell_type": "code",
   "execution_count": 8,
   "id": "42973b85",
   "metadata": {},
   "outputs": [
    {
     "data": {
      "text/plain": [
       "((62011, 6), (26577, 6), (62011,), (26577,))"
      ]
     },
     "execution_count": 8,
     "metadata": {},
     "output_type": "execute_result"
    }
   ],
   "source": [
    "x_train, x_test, y_train, y_test = train_test_split(X, Y, test_size=0.3, random_state=5)\n",
    "x_train.shape, x_test.shape, y_train.shape, y_test.shape"
   ]
  },
  {
   "cell_type": "markdown",
   "id": "056829c2",
   "metadata": {},
   "source": [
    "#### Task 4. Using Scikit-learn, fit a Gaussian Naive Bayes model and observe the accuracy."
   ]
  },
  {
   "cell_type": "code",
   "execution_count": 9,
   "id": "5a7871e6",
   "metadata": {},
   "outputs": [],
   "source": [
    "gnb = GaussianNB()\n",
    "gnb.fit(x_train, y_train)\n",
    "\n",
    "y_predict = gnb.predict(x_test)"
   ]
  },
  {
   "cell_type": "code",
   "execution_count": 10,
   "id": "e4cba321",
   "metadata": {},
   "outputs": [
    {
     "name": "stdout",
     "output_type": "stream",
     "text": [
      "Model 1 Accuracy: 95.63%.\n"
     ]
    }
   ],
   "source": [
    "gnb_acc = accuracy_score(y_test, y_predict)\n",
    "print(\"Model 1 Accuracy: {:0.2f}%.\".format(gnb_acc * 100))"
   ]
  },
  {
   "cell_type": "code",
   "execution_count": 11,
   "id": "8308250b",
   "metadata": {},
   "outputs": [
    {
     "data": {
      "text/plain": [
       "array([[13111,   152],\n",
       "       [ 1009, 12305]], dtype=int64)"
      ]
     },
     "execution_count": 11,
     "metadata": {},
     "output_type": "execute_result"
    }
   ],
   "source": [
    "confusion_matrix(y_test, y_predict)"
   ]
  },
  {
   "cell_type": "markdown",
   "id": "9c1c1cbe",
   "metadata": {},
   "source": [
    "#### Task 5. Generate a classification report using Scikit-learn."
   ]
  },
  {
   "cell_type": "code",
   "execution_count": 12,
   "id": "d6871b27",
   "metadata": {},
   "outputs": [
    {
     "name": "stdout",
     "output_type": "stream",
     "text": [
      "              precision    recall  f1-score   support\n",
      "\n",
      "           0       0.93      0.99      0.96     13263\n",
      "           1       0.99      0.92      0.95     13314\n",
      "\n",
      "    accuracy                           0.96     26577\n",
      "   macro avg       0.96      0.96      0.96     26577\n",
      "weighted avg       0.96      0.96      0.96     26577\n",
      "\n"
     ]
    }
   ],
   "source": [
    "print(classification_report(y_test, y_predict))"
   ]
  },
  {
   "cell_type": "markdown",
   "id": "27f93878",
   "metadata": {},
   "source": [
    "#### Task 6.1. Repeat the model once using only the acceleration values as predictors."
   ]
  },
  {
   "cell_type": "code",
   "execution_count": 13,
   "id": "96071b1c",
   "metadata": {},
   "outputs": [
    {
     "data": {
      "text/plain": [
       "['date',\n",
       " 'time',\n",
       " 'username',\n",
       " 'wrist',\n",
       " 'activity',\n",
       " 'acceleration_x',\n",
       " 'acceleration_y',\n",
       " 'acceleration_z',\n",
       " 'gyro_x',\n",
       " 'gyro_y',\n",
       " 'gyro_z']"
      ]
     },
     "execution_count": 13,
     "metadata": {},
     "output_type": "execute_result"
    }
   ],
   "source": [
    "data_df.columns.to_list()"
   ]
  },
  {
   "cell_type": "code",
   "execution_count": 14,
   "id": "39b0b94e",
   "metadata": {},
   "outputs": [],
   "source": [
    "x_acceleration = data_df[[ 'acceleration_x', 'acceleration_y', 'acceleration_z']]\n",
    "y_acceleration = data_df.iloc[:,4]"
   ]
  },
  {
   "cell_type": "code",
   "execution_count": 15,
   "id": "0734de76",
   "metadata": {},
   "outputs": [
    {
     "name": "stdout",
     "output_type": "stream",
     "text": [
      "   acceleration_x  acceleration_y  acceleration_z\n",
      "0          0.2650         -0.7814         -0.0076\n",
      "1          0.6722         -1.1233         -0.2344\n",
      "2          0.4399         -1.4817          0.0722\n",
      "3          0.3031         -0.8125          0.0888\n",
      "=============================================\n",
      "0    0\n",
      "1    0\n",
      "2    0\n",
      "3    0\n",
      "Name: activity, dtype: int64\n"
     ]
    }
   ],
   "source": [
    "print(x_acceleration[0:4])\n",
    "print(\"=============================================\")\n",
    "print(y_acceleration[0:4])"
   ]
  },
  {
   "cell_type": "code",
   "execution_count": 16,
   "id": "e314bb47",
   "metadata": {},
   "outputs": [
    {
     "data": {
      "text/plain": [
       "((62011, 3), (26577, 3), (62011,), (26577,))"
      ]
     },
     "execution_count": 16,
     "metadata": {},
     "output_type": "execute_result"
    }
   ],
   "source": [
    "x_train_acc, x_test_acc, y_train_acc, y_test_acc = train_test_split(x_acceleration, y_acceleration, test_size=0.3, random_state=5)\n",
    "x_train_acc.shape, x_test_acc.shape, y_train_acc.shape, y_test_acc.shape"
   ]
  },
  {
   "cell_type": "code",
   "execution_count": 17,
   "id": "830d46ef",
   "metadata": {},
   "outputs": [],
   "source": [
    "gnb_acc = GaussianNB()\n",
    "gnb_acc.fit(x_train_acc, y_train_acc)\n",
    "\n",
    "y_pred_acc = gnb_acc.predict(x_test_acc)"
   ]
  },
  {
   "cell_type": "code",
   "execution_count": 18,
   "id": "61b78929",
   "metadata": {},
   "outputs": [
    {
     "name": "stdout",
     "output_type": "stream",
     "text": [
      "Accuracy with only acceleration: 95.82%.\n"
     ]
    }
   ],
   "source": [
    "gnb_acc_racy = accuracy_score(y_test_acc, y_pred_acc)\n",
    "print(\"Accuracy with only acceleration: {:0.2F}%.\".format(gnb_acc_racy*100))"
   ]
  },
  {
   "cell_type": "markdown",
   "id": "0be214a2",
   "metadata": {},
   "source": [
    "#### Task 6.2. Repeat the model once using only the gyro values as predictors."
   ]
  },
  {
   "cell_type": "code",
   "execution_count": 19,
   "id": "c874da35",
   "metadata": {},
   "outputs": [
    {
     "data": {
      "text/plain": [
       "['date',\n",
       " 'time',\n",
       " 'username',\n",
       " 'wrist',\n",
       " 'activity',\n",
       " 'acceleration_x',\n",
       " 'acceleration_y',\n",
       " 'acceleration_z',\n",
       " 'gyro_x',\n",
       " 'gyro_y',\n",
       " 'gyro_z']"
      ]
     },
     "execution_count": 19,
     "metadata": {},
     "output_type": "execute_result"
    }
   ],
   "source": [
    "data_df.columns.to_list()"
   ]
  },
  {
   "cell_type": "code",
   "execution_count": 20,
   "id": "b9794738",
   "metadata": {},
   "outputs": [],
   "source": [
    "x_gyro = data_df[['gyro_x', 'gyro_y', 'gyro_z']]\n",
    "y_gyro = data_df.iloc[:,4]"
   ]
  },
  {
   "cell_type": "code",
   "execution_count": 21,
   "id": "7fc52bcb",
   "metadata": {},
   "outputs": [
    {
     "data": {
      "text/plain": [
       "((62011, 3), (26577, 3), (62011,), (26577,))"
      ]
     },
     "execution_count": 21,
     "metadata": {},
     "output_type": "execute_result"
    }
   ],
   "source": [
    "x_train_gyro, x_test_gyro, y_train_gyro, y_test_gyro = train_test_split(x_gyro, y_gyro, test_size=0.3, random_state=5)\n",
    "x_train_gyro.shape, x_test_gyro.shape, y_train_gyro.shape, y_test_gyro.shape"
   ]
  },
  {
   "cell_type": "code",
   "execution_count": 22,
   "id": "1a4f1a95",
   "metadata": {},
   "outputs": [],
   "source": [
    "gnb_gyro = GaussianNB()\n",
    "gnb_gyro.fit(x_train_gyro, y_train_gyro)\n",
    "\n",
    "y_pred_gyro = gnb_gyro.predict(x_test_gyro)"
   ]
  },
  {
   "cell_type": "code",
   "execution_count": 23,
   "id": "baa3909a",
   "metadata": {},
   "outputs": [
    {
     "name": "stdout",
     "output_type": "stream",
     "text": [
      "Accuracy with only gyro: 64.61%.\n"
     ]
    }
   ],
   "source": [
    "gyro_acc = accuracy_score(y_pred_gyro, y_test_gyro)\n",
    "print(\"Accuracy with only gyro: {:0.2F}%.\".format(gyro_acc*100))"
   ]
  },
  {
   "cell_type": "markdown",
   "id": "6421f832",
   "metadata": {},
   "source": [
    "## Observations:\n",
    "#### Accuracy with both acceleration and gyro readings: 95.63%.\n",
    "#### Accuracy with only acceleration readings: 95.82%.\n",
    "#### Accuracy with both acceleration and gyro readings: 64.61%.\n",
    "\n",
    "### We have seen that gyro (direction) isn't important in prediction of activity of walking or running. When we used only acceleration it improved the prediction which is obvious to understand."
   ]
  }
 ],
 "metadata": {
  "kernelspec": {
   "display_name": "Python 3 (ipykernel)",
   "language": "python",
   "name": "python3"
  },
  "language_info": {
   "codemirror_mode": {
    "name": "ipython",
    "version": 3
   },
   "file_extension": ".py",
   "mimetype": "text/x-python",
   "name": "python",
   "nbconvert_exporter": "python",
   "pygments_lexer": "ipython3",
   "version": "3.9.7"
  }
 },
 "nbformat": 4,
 "nbformat_minor": 5
}
