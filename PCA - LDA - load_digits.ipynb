{
 "cells": [
  {
   "cell_type": "markdown",
   "id": "aaf3e789",
   "metadata": {},
   "source": [
    "##  Demonstrating PCA and LDA. Art of reducing fetaures which makes trainging less time or resource consuming."
   ]
  },
  {
   "cell_type": "code",
   "execution_count": 1,
   "id": "b08901b1",
   "metadata": {},
   "outputs": [],
   "source": [
    "import pandas as pd\n",
    "import numpy as np\n",
    "\n",
    "from sklearn.datasets import load_digits\n",
    "\n",
    "from sklearn.preprocessing import StandardScaler\n",
    "from sklearn.model_selection import train_test_split\n",
    "\n",
    "from sklearn.decomposition import PCA\n",
    "from sklearn.discriminant_analysis import LinearDiscriminantAnalysis\n",
    "\n",
    "from sklearn.linear_model import LogisticRegression\n",
    "\n",
    "import matplotlib.pyplot as plt\n",
    "%matplotlib inline"
   ]
  },
  {
   "cell_type": "code",
   "execution_count": 2,
   "id": "0712e1f7",
   "metadata": {},
   "outputs": [
    {
     "data": {
      "text/plain": [
       "dict_keys(['data', 'target', 'frame', 'feature_names', 'target_names', 'images', 'DESCR'])"
      ]
     },
     "execution_count": 2,
     "metadata": {},
     "output_type": "execute_result"
    }
   ],
   "source": [
    "data = load_digits()\n",
    "data.keys()"
   ]
  },
  {
   "cell_type": "code",
   "execution_count": 3,
   "id": "8af8c144",
   "metadata": {
    "scrolled": false
   },
   "outputs": [
    {
     "name": "stdout",
     "output_type": "stream",
     "text": [
      ".. _digits_dataset:\n",
      "\n",
      "Optical recognition of handwritten digits dataset\n",
      "--------------------------------------------------\n",
      "\n",
      "**Data Set Characteristics:**\n",
      "\n",
      "    :Number of Instances: 1797\n",
      "    :Number of Attributes: 64\n",
      "    :Attribute Information: 8x8 image of integer pixels in the range 0..16.\n",
      "    :Missing Attribute Values: None\n",
      "    :Creator: E. Alpaydin (alpaydin '@' boun.edu.tr)\n",
      "    :Date: July; 1998\n",
      "\n",
      "This is a copy of the test set of the UCI ML hand-written digits datasets\n",
      "https://archive.ics.uci.edu/ml/datasets/Optical+Recognition+of+Handwritten+Digits\n",
      "\n",
      "The data set contains images of hand-written digits: 10 classes where\n",
      "each class refers to a digit.\n",
      "\n",
      "Preprocessing programs made available by NIST were used to extract\n",
      "normalized bitmaps of handwritten digits from a preprinted form. From a\n",
      "total of 43 people, 30 contributed to the training set and different 13\n",
      "to the test set. 32x32 bitmaps are divided into nonoverlapping blocks of\n",
      "4x4 and the number of on pixels are counted in each block. This generates\n",
      "an input matrix of 8x8 where each element is an integer in the range\n",
      "0..16. This reduces dimensionality and gives invariance to small\n",
      "distortions.\n",
      "\n",
      "For info on NIST preprocessing routines, see M. D. Garris, J. L. Blue, G.\n",
      "T. Candela, D. L. Dimmick, J. Geist, P. J. Grother, S. A. Janet, and C.\n",
      "L. Wilson, NIST Form-Based Handprint Recognition System, NISTIR 5469,\n",
      "1994.\n",
      "\n",
      ".. topic:: References\n",
      "\n",
      "  - C. Kaynak (1995) Methods of Combining Multiple Classifiers and Their\n",
      "    Applications to Handwritten Digit Recognition, MSc Thesis, Institute of\n",
      "    Graduate Studies in Science and Engineering, Bogazici University.\n",
      "  - E. Alpaydin, C. Kaynak (1998) Cascading Classifiers, Kybernetika.\n",
      "  - Ken Tang and Ponnuthurai N. Suganthan and Xi Yao and A. Kai Qin.\n",
      "    Linear dimensionalityreduction using relevance weighted LDA. School of\n",
      "    Electrical and Electronic Engineering Nanyang Technological University.\n",
      "    2005.\n",
      "  - Claudio Gentile. A New Approximate Maximal Margin Classification\n",
      "    Algorithm. NIPS. 2000.\n",
      "\n"
     ]
    }
   ],
   "source": [
    "print(data.DESCR)"
   ]
  },
  {
   "cell_type": "code",
   "execution_count": 4,
   "id": "aee263ad",
   "metadata": {
    "scrolled": true
   },
   "outputs": [
    {
     "data": {
      "text/plain": [
       "<matplotlib.image.AxesImage at 0x11ccab08>"
      ]
     },
     "execution_count": 4,
     "metadata": {},
     "output_type": "execute_result"
    },
    {
     "data": {
      "text/plain": [
       "<Figure size 432x288 with 0 Axes>"
      ]
     },
     "metadata": {},
     "output_type": "display_data"
    },
    {
     "data": {
      "image/png": "[encoded data removed]",
      "text/plain": [
       "<Figure size 288x288 with 1 Axes>"
      ]
     },
     "metadata": {
      "needs_background": "light"
     },
     "output_type": "display_data"
    }
   ],
   "source": [
    "# Printing single digit to check representation in pixels\n",
    "\n",
    "# As explained in DESCR: 8x8 image of integer pixels in the range 0..16\n",
    "first_digit = data.data[0].reshape(8,8)\n",
    "plt.gray()\n",
    "plt.matshow(first_digit)\n",
    "\n",
    "# plt.matshow(data.data[8].reshape(8,8))"
   ]
  },
  {
   "cell_type": "markdown",
   "id": "6dbdb286",
   "metadata": {},
   "source": [
    "###  Preparing data for modal training"
   ]
  },
  {
   "cell_type": "code",
   "execution_count": 5,
   "id": "f9726b73",
   "metadata": {},
   "outputs": [],
   "source": [
    "x_features = pd.DataFrame(data=data.data, columns=data.feature_names)\n",
    "y_target = data.target\n",
    "\n",
    "# print(x_features.head())\n",
    "# print(\"=========\")\n",
    "# print(\"Unique Target: \", np.unique(y_target))\n",
    "# print(\"=========\")\n",
    "# print(\"Target Size: \",y_target.size)"
   ]
  },
  {
   "cell_type": "markdown",
   "id": "c99e96d2",
   "metadata": {},
   "source": [
    "####  Modal training"
   ]
  },
  {
   "cell_type": "code",
   "execution_count": 6,
   "id": "8f6b8137",
   "metadata": {},
   "outputs": [
    {
     "data": {
      "text/plain": [
       "((1257, 64), (540, 64), (1257,), (540,))"
      ]
     },
     "execution_count": 6,
     "metadata": {},
     "output_type": "execute_result"
    }
   ],
   "source": [
    "x_simple_train, x_simple_test, y_simple_train, y_simple_test = train_test_split(x_features, y_target, test_size=0.3, random_state=1, stratify=y_target)\n",
    "x_simple_train.shape, x_simple_test.shape, y_simple_train.shape, y_simple_test.shape"
   ]
  },
  {
   "cell_type": "code",
   "execution_count": 7,
   "id": "feb0902e",
   "metadata": {},
   "outputs": [
    {
     "data": {
      "text/html": [
       "<div>\n",
       "<style scoped>\n",
       "    .dataframe tbody tr th:only-of-type {\n",
       "        vertical-align: middle;\n",
       "    }\n",
       "\n",
       "    .dataframe tbody tr th {\n",
       "        vertical-align: top;\n",
       "    }\n",
       "\n",
       "    .dataframe thead th {\n",
       "        text-align: right;\n",
       "    }\n",
       "</style>\n",
       "<table border=\"1\" class=\"dataframe\">\n",
       "  <thead>\n",
       "    <tr style=\"text-align: right;\">\n",
       "      <th></th>\n",
       "      <th>pixel_0_0</th>\n",
       "      <th>pixel_0_1</th>\n",
       "      <th>pixel_0_2</th>\n",
       "      <th>pixel_0_3</th>\n",
       "      <th>pixel_0_4</th>\n",
       "      <th>pixel_0_5</th>\n",
       "      <th>pixel_0_6</th>\n",
       "      <th>pixel_0_7</th>\n",
       "      <th>pixel_1_0</th>\n",
       "      <th>pixel_1_1</th>\n",
       "      <th>...</th>\n",
       "      <th>pixel_6_6</th>\n",
       "      <th>pixel_6_7</th>\n",
       "      <th>pixel_7_0</th>\n",
       "      <th>pixel_7_1</th>\n",
       "      <th>pixel_7_2</th>\n",
       "      <th>pixel_7_3</th>\n",
       "      <th>pixel_7_4</th>\n",
       "      <th>pixel_7_5</th>\n",
       "      <th>pixel_7_6</th>\n",
       "      <th>pixel_7_7</th>\n",
       "    </tr>\n",
       "  </thead>\n",
       "  <tbody>\n",
       "    <tr>\n",
       "      <th>230</th>\n",
       "      <td>0.0</td>\n",
       "      <td>3.0</td>\n",
       "      <td>15.0</td>\n",
       "      <td>13.0</td>\n",
       "      <td>12.0</td>\n",
       "      <td>8.0</td>\n",
       "      <td>1.0</td>\n",
       "      <td>0.0</td>\n",
       "      <td>0.0</td>\n",
       "      <td>4.0</td>\n",
       "      <td>...</td>\n",
       "      <td>0.0</td>\n",
       "      <td>0.0</td>\n",
       "      <td>0.0</td>\n",
       "      <td>2.0</td>\n",
       "      <td>15.0</td>\n",
       "      <td>16.0</td>\n",
       "      <td>2.0</td>\n",
       "      <td>0.0</td>\n",
       "      <td>0.0</td>\n",
       "      <td>0.0</td>\n",
       "    </tr>\n",
       "    <tr>\n",
       "      <th>919</th>\n",
       "      <td>0.0</td>\n",
       "      <td>0.0</td>\n",
       "      <td>0.0</td>\n",
       "      <td>2.0</td>\n",
       "      <td>14.0</td>\n",
       "      <td>5.0</td>\n",
       "      <td>0.0</td>\n",
       "      <td>0.0</td>\n",
       "      <td>0.0</td>\n",
       "      <td>0.0</td>\n",
       "      <td>...</td>\n",
       "      <td>0.0</td>\n",
       "      <td>0.0</td>\n",
       "      <td>0.0</td>\n",
       "      <td>0.0</td>\n",
       "      <td>0.0</td>\n",
       "      <td>4.0</td>\n",
       "      <td>16.0</td>\n",
       "      <td>7.0</td>\n",
       "      <td>0.0</td>\n",
       "      <td>0.0</td>\n",
       "    </tr>\n",
       "    <tr>\n",
       "      <th>799</th>\n",
       "      <td>0.0</td>\n",
       "      <td>2.0</td>\n",
       "      <td>11.0</td>\n",
       "      <td>14.0</td>\n",
       "      <td>10.0</td>\n",
       "      <td>1.0</td>\n",
       "      <td>0.0</td>\n",
       "      <td>0.0</td>\n",
       "      <td>0.0</td>\n",
       "      <td>6.0</td>\n",
       "      <td>...</td>\n",
       "      <td>7.0</td>\n",
       "      <td>0.0</td>\n",
       "      <td>0.0</td>\n",
       "      <td>1.0</td>\n",
       "      <td>12.0</td>\n",
       "      <td>16.0</td>\n",
       "      <td>16.0</td>\n",
       "      <td>10.0</td>\n",
       "      <td>0.0</td>\n",
       "      <td>0.0</td>\n",
       "    </tr>\n",
       "    <tr>\n",
       "      <th>448</th>\n",
       "      <td>0.0</td>\n",
       "      <td>0.0</td>\n",
       "      <td>4.0</td>\n",
       "      <td>13.0</td>\n",
       "      <td>14.0</td>\n",
       "      <td>2.0</td>\n",
       "      <td>0.0</td>\n",
       "      <td>0.0</td>\n",
       "      <td>0.0</td>\n",
       "      <td>0.0</td>\n",
       "      <td>...</td>\n",
       "      <td>3.0</td>\n",
       "      <td>0.0</td>\n",
       "      <td>0.0</td>\n",
       "      <td>0.0</td>\n",
       "      <td>7.0</td>\n",
       "      <td>13.0</td>\n",
       "      <td>13.0</td>\n",
       "      <td>8.0</td>\n",
       "      <td>0.0</td>\n",
       "      <td>0.0</td>\n",
       "    </tr>\n",
       "    <tr>\n",
       "      <th>1305</th>\n",
       "      <td>0.0</td>\n",
       "      <td>0.0</td>\n",
       "      <td>4.0</td>\n",
       "      <td>16.0</td>\n",
       "      <td>14.0</td>\n",
       "      <td>3.0</td>\n",
       "      <td>0.0</td>\n",
       "      <td>0.0</td>\n",
       "      <td>2.0</td>\n",
       "      <td>14.0</td>\n",
       "      <td>...</td>\n",
       "      <td>0.0</td>\n",
       "      <td>0.0</td>\n",
       "      <td>0.0</td>\n",
       "      <td>0.0</td>\n",
       "      <td>4.0</td>\n",
       "      <td>15.0</td>\n",
       "      <td>16.0</td>\n",
       "      <td>3.0</td>\n",
       "      <td>0.0</td>\n",
       "      <td>0.0</td>\n",
       "    </tr>\n",
       "    <tr>\n",
       "      <th>...</th>\n",
       "      <td>...</td>\n",
       "      <td>...</td>\n",
       "      <td>...</td>\n",
       "      <td>...</td>\n",
       "      <td>...</td>\n",
       "      <td>...</td>\n",
       "      <td>...</td>\n",
       "      <td>...</td>\n",
       "      <td>...</td>\n",
       "      <td>...</td>\n",
       "      <td>...</td>\n",
       "      <td>...</td>\n",
       "      <td>...</td>\n",
       "      <td>...</td>\n",
       "      <td>...</td>\n",
       "      <td>...</td>\n",
       "      <td>...</td>\n",
       "      <td>...</td>\n",
       "      <td>...</td>\n",
       "      <td>...</td>\n",
       "      <td>...</td>\n",
       "    </tr>\n",
       "    <tr>\n",
       "      <th>750</th>\n",
       "      <td>0.0</td>\n",
       "      <td>0.0</td>\n",
       "      <td>0.0</td>\n",
       "      <td>6.0</td>\n",
       "      <td>11.0</td>\n",
       "      <td>0.0</td>\n",
       "      <td>0.0</td>\n",
       "      <td>0.0</td>\n",
       "      <td>0.0</td>\n",
       "      <td>0.0</td>\n",
       "      <td>...</td>\n",
       "      <td>15.0</td>\n",
       "      <td>3.0</td>\n",
       "      <td>0.0</td>\n",
       "      <td>0.0</td>\n",
       "      <td>0.0</td>\n",
       "      <td>5.0</td>\n",
       "      <td>11.0</td>\n",
       "      <td>13.0</td>\n",
       "      <td>12.0</td>\n",
       "      <td>2.0</td>\n",
       "    </tr>\n",
       "    <tr>\n",
       "      <th>1662</th>\n",
       "      <td>0.0</td>\n",
       "      <td>0.0</td>\n",
       "      <td>7.0</td>\n",
       "      <td>15.0</td>\n",
       "      <td>16.0</td>\n",
       "      <td>12.0</td>\n",
       "      <td>0.0</td>\n",
       "      <td>0.0</td>\n",
       "      <td>0.0</td>\n",
       "      <td>12.0</td>\n",
       "      <td>...</td>\n",
       "      <td>0.0</td>\n",
       "      <td>0.0</td>\n",
       "      <td>0.0</td>\n",
       "      <td>0.0</td>\n",
       "      <td>10.0</td>\n",
       "      <td>12.0</td>\n",
       "      <td>1.0</td>\n",
       "      <td>0.0</td>\n",
       "      <td>0.0</td>\n",
       "      <td>0.0</td>\n",
       "    </tr>\n",
       "    <tr>\n",
       "      <th>665</th>\n",
       "      <td>0.0</td>\n",
       "      <td>0.0</td>\n",
       "      <td>0.0</td>\n",
       "      <td>1.0</td>\n",
       "      <td>7.0</td>\n",
       "      <td>15.0</td>\n",
       "      <td>11.0</td>\n",
       "      <td>0.0</td>\n",
       "      <td>0.0</td>\n",
       "      <td>0.0</td>\n",
       "      <td>...</td>\n",
       "      <td>0.0</td>\n",
       "      <td>0.0</td>\n",
       "      <td>0.0</td>\n",
       "      <td>0.0</td>\n",
       "      <td>0.0</td>\n",
       "      <td>0.0</td>\n",
       "      <td>9.0</td>\n",
       "      <td>6.0</td>\n",
       "      <td>0.0</td>\n",
       "      <td>0.0</td>\n",
       "    </tr>\n",
       "    <tr>\n",
       "      <th>582</th>\n",
       "      <td>0.0</td>\n",
       "      <td>0.0</td>\n",
       "      <td>0.0</td>\n",
       "      <td>9.0</td>\n",
       "      <td>16.0</td>\n",
       "      <td>6.0</td>\n",
       "      <td>0.0</td>\n",
       "      <td>0.0</td>\n",
       "      <td>0.0</td>\n",
       "      <td>0.0</td>\n",
       "      <td>...</td>\n",
       "      <td>9.0</td>\n",
       "      <td>0.0</td>\n",
       "      <td>0.0</td>\n",
       "      <td>0.0</td>\n",
       "      <td>0.0</td>\n",
       "      <td>8.0</td>\n",
       "      <td>16.0</td>\n",
       "      <td>16.0</td>\n",
       "      <td>7.0</td>\n",
       "      <td>0.0</td>\n",
       "    </tr>\n",
       "    <tr>\n",
       "      <th>584</th>\n",
       "      <td>0.0</td>\n",
       "      <td>0.0</td>\n",
       "      <td>3.0</td>\n",
       "      <td>15.0</td>\n",
       "      <td>6.0</td>\n",
       "      <td>0.0</td>\n",
       "      <td>0.0</td>\n",
       "      <td>0.0</td>\n",
       "      <td>0.0</td>\n",
       "      <td>1.0</td>\n",
       "      <td>...</td>\n",
       "      <td>0.0</td>\n",
       "      <td>0.0</td>\n",
       "      <td>0.0</td>\n",
       "      <td>0.0</td>\n",
       "      <td>5.0</td>\n",
       "      <td>15.0</td>\n",
       "      <td>4.0</td>\n",
       "      <td>0.0</td>\n",
       "      <td>0.0</td>\n",
       "      <td>0.0</td>\n",
       "    </tr>\n",
       "  </tbody>\n",
       "</table>\n",
       "<p>1257 rows × 64 columns</p>\n",
       "</div>"
      ],
      "text/plain": [
       "      pixel_0_0  pixel_0_1  pixel_0_2  pixel_0_3  pixel_0_4  pixel_0_5  \\\n",
       "230         0.0        3.0       15.0       13.0       12.0        8.0   \n",
       "919         0.0        0.0        0.0        2.0       14.0        5.0   \n",
       "799         0.0        2.0       11.0       14.0       10.0        1.0   \n",
       "448         0.0        0.0        4.0       13.0       14.0        2.0   \n",
       "1305        0.0        0.0        4.0       16.0       14.0        3.0   \n",
       "...         ...        ...        ...        ...        ...        ...   \n",
       "750         0.0        0.0        0.0        6.0       11.0        0.0   \n",
       "1662        0.0        0.0        7.0       15.0       16.0       12.0   \n",
       "665         0.0        0.0        0.0        1.0        7.0       15.0   \n",
       "582         0.0        0.0        0.0        9.0       16.0        6.0   \n",
       "584         0.0        0.0        3.0       15.0        6.0        0.0   \n",
       "\n",
       "      pixel_0_6  pixel_0_7  pixel_1_0  pixel_1_1  ...  pixel_6_6  pixel_6_7  \\\n",
       "230         1.0        0.0        0.0        4.0  ...        0.0        0.0   \n",
       "919         0.0        0.0        0.0        0.0  ...        0.0        0.0   \n",
       "799         0.0        0.0        0.0        6.0  ...        7.0        0.0   \n",
       "448         0.0        0.0        0.0        0.0  ...        3.0        0.0   \n",
       "1305        0.0        0.0        2.0       14.0  ...        0.0        0.0   \n",
       "...         ...        ...        ...        ...  ...        ...        ...   \n",
       "750         0.0        0.0        0.0        0.0  ...       15.0        3.0   \n",
       "1662        0.0        0.0        0.0       12.0  ...        0.0        0.0   \n",
       "665        11.0        0.0        0.0        0.0  ...        0.0        0.0   \n",
       "582         0.0        0.0        0.0        0.0  ...        9.0        0.0   \n",
       "584         0.0        0.0        0.0        1.0  ...        0.0        0.0   \n",
       "\n",
       "      pixel_7_0  pixel_7_1  pixel_7_2  pixel_7_3  pixel_7_4  pixel_7_5  \\\n",
       "230         0.0        2.0       15.0       16.0        2.0        0.0   \n",
       "919         0.0        0.0        0.0        4.0       16.0        7.0   \n",
       "799         0.0        1.0       12.0       16.0       16.0       10.0   \n",
       "448         0.0        0.0        7.0       13.0       13.0        8.0   \n",
       "1305        0.0        0.0        4.0       15.0       16.0        3.0   \n",
       "...         ...        ...        ...        ...        ...        ...   \n",
       "750         0.0        0.0        0.0        5.0       11.0       13.0   \n",
       "1662        0.0        0.0       10.0       12.0        1.0        0.0   \n",
       "665         0.0        0.0        0.0        0.0        9.0        6.0   \n",
       "582         0.0        0.0        0.0        8.0       16.0       16.0   \n",
       "584         0.0        0.0        5.0       15.0        4.0        0.0   \n",
       "\n",
       "      pixel_7_6  pixel_7_7  \n",
       "230         0.0        0.0  \n",
       "919         0.0        0.0  \n",
       "799         0.0        0.0  \n",
       "448         0.0        0.0  \n",
       "1305        0.0        0.0  \n",
       "...         ...        ...  \n",
       "750        12.0        2.0  \n",
       "1662        0.0        0.0  \n",
       "665         0.0        0.0  \n",
       "582         7.0        0.0  \n",
       "584         0.0        0.0  \n",
       "\n",
       "[1257 rows x 64 columns]"
      ]
     },
     "execution_count": 7,
     "metadata": {},
     "output_type": "execute_result"
    }
   ],
   "source": [
    "x_simple_train"
   ]
  },
  {
   "cell_type": "code",
   "execution_count": 8,
   "id": "c89502fb",
   "metadata": {},
   "outputs": [
    {
     "data": {
      "text/plain": [
       "LogisticRegression(max_iter=3000)"
      ]
     },
     "execution_count": 8,
     "metadata": {},
     "output_type": "execute_result"
    }
   ],
   "source": [
    "# max_iter increased to 3000 to help graditent desent converge.\n",
    "lr_plain = LogisticRegression(max_iter=3000)\n",
    "lr_plain.fit(x_simple_train, y_simple_train)"
   ]
  },
  {
   "cell_type": "code",
   "execution_count": 9,
   "id": "74b8c5ed",
   "metadata": {},
   "outputs": [
    {
     "name": "stdout",
     "output_type": "stream",
     "text": [
      "Accuracy:  96.29629629629629 %\n"
     ]
    }
   ],
   "source": [
    "score = lr_plain.score(x_simple_test, y_simple_test)\n",
    "print(\"Accuracy: \", score*100, \"%\")"
   ]
  },
  {
   "cell_type": "markdown",
   "id": "f9035420",
   "metadata": {},
   "source": [
    "### Scalling the features"
   ]
  },
  {
   "cell_type": "code",
   "execution_count": 10,
   "id": "8356d9d3",
   "metadata": {},
   "outputs": [
    {
     "data": {
      "text/plain": [
       "(1797, 64)"
      ]
     },
     "execution_count": 10,
     "metadata": {},
     "output_type": "execute_result"
    }
   ],
   "source": [
    "std_scale = StandardScaler()\n",
    "x_processed = std_scale.fit_transform(x_features)\n",
    "# x_processed = x_features\n",
    "x_processed.shape"
   ]
  },
  {
   "cell_type": "markdown",
   "id": "f1a1c41f",
   "metadata": {},
   "source": [
    "####  Splitting training and test data"
   ]
  },
  {
   "cell_type": "code",
   "execution_count": 11,
   "id": "9e09fc0f",
   "metadata": {},
   "outputs": [
    {
     "data": {
      "text/plain": [
       "((1257, 64), (540, 64), (1257,), (540,))"
      ]
     },
     "execution_count": 11,
     "metadata": {},
     "output_type": "execute_result"
    }
   ],
   "source": [
    "x_scl_train,x_scl_test,y_scl_train, y_scl_test = train_test_split(x_processed, y_target, test_size=0.3, random_state=1, stratify=y_target)\n",
    "x_scl_train.shape, x_scl_test.shape, y_scl_train.shape, y_scl_test.shape"
   ]
  },
  {
   "cell_type": "code",
   "execution_count": 12,
   "id": "feb433bc",
   "metadata": {},
   "outputs": [
    {
     "data": {
      "text/plain": [
       "array([[ 0.        ,  2.97281114,  2.06063063, ..., -1.14664746,\n",
       "        -0.5056698 , -0.19600752],\n",
       "       [ 0.        , -0.33501649, -1.09493684, ...,  0.03999823,\n",
       "        -0.5056698 , -0.19600752],\n",
       "       [ 0.        ,  1.87020193,  1.21914597, ...,  0.54856067,\n",
       "        -0.5056698 , -0.19600752],\n",
       "       ...,\n",
       "       [ 0.        , -0.33501649, -1.09493684, ..., -0.12952258,\n",
       "        -0.5056698 , -0.19600752],\n",
       "       [ 0.        , -0.33501649, -1.09493684, ...,  1.56568555,\n",
       "         1.20606875, -0.19600752],\n",
       "       [ 0.        , -0.33501649, -0.46382335, ..., -1.14664746,\n",
       "        -0.5056698 , -0.19600752]])"
      ]
     },
     "execution_count": 12,
     "metadata": {},
     "output_type": "execute_result"
    }
   ],
   "source": [
    "x_scl_train"
   ]
  },
  {
   "cell_type": "markdown",
   "id": "4ed078e7",
   "metadata": {},
   "source": [
    "#### Training the Modal now"
   ]
  },
  {
   "cell_type": "code",
   "execution_count": 13,
   "id": "701e30cb",
   "metadata": {},
   "outputs": [],
   "source": [
    "lr_scaled = LogisticRegression()\n",
    "lr_scaled.fit(x_scl_train, y_scl_train)\n",
    "\n",
    "y_scl_predicted = lr_scaled.predict(x_scl_test)"
   ]
  },
  {
   "cell_type": "code",
   "execution_count": 14,
   "id": "1c193e12",
   "metadata": {},
   "outputs": [
    {
     "name": "stdout",
     "output_type": "stream",
     "text": [
      "Accuracy:  96.85185185185186 %\n"
     ]
    }
   ],
   "source": [
    "scl_score = lr_scaled.score(x_scl_test, y_scl_test)\n",
    "\n",
    "print(\"Accuracy: \",scl_score*100, \"%\")"
   ]
  },
  {
   "cell_type": "markdown",
   "id": "6fb62627",
   "metadata": {},
   "source": [
    "## Applying PCA"
   ]
  },
  {
   "cell_type": "code",
   "execution_count": 15,
   "id": "bd46af97",
   "metadata": {},
   "outputs": [
    {
     "data": {
      "text/plain": [
       "(1797, 43)"
      ]
     },
     "execution_count": 15,
     "metadata": {},
     "output_type": "execute_result"
    }
   ],
   "source": [
    "pca = PCA(0.96)\n",
    "\n",
    "x_pca = pca.fit_transform(x_processed)\n",
    "x_pca.shape"
   ]
  },
  {
   "cell_type": "code",
   "execution_count": 16,
   "id": "c10aa7dc",
   "metadata": {},
   "outputs": [
    {
     "data": {
      "text/plain": [
       "((1257, 43), (540, 43), (1257,), (540,))"
      ]
     },
     "execution_count": 16,
     "metadata": {},
     "output_type": "execute_result"
    }
   ],
   "source": [
    "x_pca_train, x_pca_test, y_pca_train, y_pca_test = train_test_split(x_pca, y_target, test_size=0.3, random_state=1, stratify=y_target)\n",
    "x_pca_train.shape, x_pca_test.shape, y_pca_train.shape, y_pca_test.shape"
   ]
  },
  {
   "cell_type": "code",
   "execution_count": 17,
   "id": "3534d6bf",
   "metadata": {},
   "outputs": [
    {
     "data": {
      "text/plain": [
       "array([[-2.90373720e+00,  1.88449759e+00,  1.70158433e+00, ...,\n",
       "         5.02328639e-01,  4.53678961e-01, -3.71411449e-02],\n",
       "       [ 8.41186907e+00, -1.56283409e+00,  2.49301427e-01, ...,\n",
       "         4.53978100e-01,  1.21207789e+00, -1.39282433e-01],\n",
       "       [-3.92504713e+00,  1.18322375e-01, -1.63986826e+00, ...,\n",
       "         1.31814348e-01, -2.23245100e-01, -1.79449619e-01],\n",
       "       ...,\n",
       "       [ 4.29058628e+00,  3.24260714e+00, -1.37229128e+00, ...,\n",
       "        -3.36350286e-02, -6.66226048e-01, -1.50893659e-01],\n",
       "       [ 2.12634685e+00, -3.52733893e+00,  1.20094398e+00, ...,\n",
       "        -2.39786022e-02, -4.06952543e-03,  6.14287453e-01],\n",
       "       [ 1.91510158e+00, -1.81564594e-01,  1.47476300e+00, ...,\n",
       "         9.80604069e-01,  4.22682469e-01,  3.66502311e-01]])"
      ]
     },
     "execution_count": 17,
     "metadata": {},
     "output_type": "execute_result"
    }
   ],
   "source": [
    "x_pca_train"
   ]
  },
  {
   "cell_type": "code",
   "execution_count": 18,
   "id": "869997bd",
   "metadata": {},
   "outputs": [],
   "source": [
    "lr_pca = LogisticRegression()\n",
    "lr_pca.fit(x_pca_train, y_pca_train)\n",
    "\n",
    "y_pca_predicted = lr_pca.predict(x_pca_test)"
   ]
  },
  {
   "cell_type": "code",
   "execution_count": 19,
   "id": "0e16a7c1",
   "metadata": {},
   "outputs": [
    {
     "name": "stdout",
     "output_type": "stream",
     "text": [
      "Accuracy:  96.29629629629629 %\n"
     ]
    }
   ],
   "source": [
    "pca_score = lr_pca.score(x_pca_test, y_pca_test)\n",
    "print(\"Accuracy: \",score*100, \"%\")"
   ]
  },
  {
   "cell_type": "markdown",
   "id": "afac89dc",
   "metadata": {},
   "source": [
    "### Implementation of LDA"
   ]
  },
  {
   "cell_type": "code",
   "execution_count": 20,
   "id": "c648fcfe",
   "metadata": {},
   "outputs": [],
   "source": [
    "lda = LinearDiscriminantAnalysis()\n",
    "x_lda = lda.fit_transform(x_processed, y_target)"
   ]
  },
  {
   "cell_type": "code",
   "execution_count": 21,
   "id": "035c8873",
   "metadata": {},
   "outputs": [
    {
     "data": {
      "text/plain": [
       "(1797, 9)"
      ]
     },
     "execution_count": 21,
     "metadata": {},
     "output_type": "execute_result"
    }
   ],
   "source": [
    "x_lda.shape"
   ]
  },
  {
   "cell_type": "code",
   "execution_count": 22,
   "id": "af4a1259",
   "metadata": {},
   "outputs": [
    {
     "data": {
      "text/plain": [
       "((1257, 9), (540, 9), (1257,), (540,))"
      ]
     },
     "execution_count": 22,
     "metadata": {},
     "output_type": "execute_result"
    }
   ],
   "source": [
    "x_lda_train, x_lda_test, y_lda_train, y_lda_test = train_test_split(x_lda, y_target, test_size=0.3, shuffle=1, stratify=y_target)\n",
    "x_lda_train.shape, x_lda_test.shape, y_lda_train.shape, y_lda_test.shape"
   ]
  },
  {
   "cell_type": "code",
   "execution_count": 23,
   "id": "67327286",
   "metadata": {},
   "outputs": [
    {
     "data": {
      "text/plain": [
       "LogisticRegression()"
      ]
     },
     "execution_count": 23,
     "metadata": {},
     "output_type": "execute_result"
    }
   ],
   "source": [
    "lr_lda = LogisticRegression()\n",
    "lr_lda.fit(x_lda_train, y_lda_train)"
   ]
  },
  {
   "cell_type": "code",
   "execution_count": 24,
   "id": "e06f470a",
   "metadata": {},
   "outputs": [
    {
     "name": "stdout",
     "output_type": "stream",
     "text": [
      "Accuracy:  95.37037037037037 %\n"
     ]
    }
   ],
   "source": [
    "score = lr_lda.score(x_lda_test, y_lda_test)\n",
    "print(\"Accuracy: \", score * 100, \"%\")"
   ]
  },
  {
   "cell_type": "markdown",
   "id": "26d4bf70",
   "metadata": {},
   "source": [
    "## Observations:\n",
    "1. We reduced features from 64 to just 43 with very minor accuracy reduction which is good.\n",
    "2. using LDA we reduced features to just 9 and with accuracy reduction is less thn 1 %.\n",
    "3. Feature scaling helps to converge GD without increasing max_iter and help better accuracy."
   ]
  }
 ],
 "metadata": {
  "kernelspec": {
   "display_name": "Python 3 (ipykernel)",
   "language": "python",
   "name": "python3"
  },
  "language_info": {
   "codemirror_mode": {
    "name": "ipython",
    "version": 3
   },
   "file_extension": ".py",
   "mimetype": "text/x-python",
   "name": "python",
   "nbconvert_exporter": "python",
   "pygments_lexer": "ipython3",
   "version": "3.9.7"
  }
 },
 "nbformat": 4,
 "nbformat_minor": 5
}
